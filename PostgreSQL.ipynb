{
  "nbformat": 4,
  "nbformat_minor": 0,
  "metadata": {
    "colab": {
      "provenance": [],
      "authorship_tag": "ABX9TyNjXyxmim6HmmyB7LKE1i8b",
      "include_colab_link": true
    },
    "kernelspec": {
      "name": "python3",
      "display_name": "Python 3"
    },
    "language_info": {
      "name": "python"
    }
  },
  "cells": [
    {
      "cell_type": "markdown",
      "metadata": {
        "id": "view-in-github",
        "colab_type": "text"
      },
      "source": [
        "<a href=\"https://colab.research.google.com/github/ElissonKevin/Atividades/blob/main/PostgreSQL.ipynb\" target=\"_parent\"><img src=\"https://colab.research.google.com/assets/colab-badge.svg\" alt=\"Open In Colab\"/></a>"
      ]
    },
    {
      "cell_type": "markdown",
      "source": [
        "CREATE TABLE Tarefa (\n",
        "    idTarefa Integer PRIMARY KEY,\n",
        "    nomeTarefa varchar(100),\n",
        "    porcentual Float,\n",
        "    observacao Text\n",
        ");\n",
        "\n",
        "CREATE TABLE Item_Tarefa (\n",
        "    IdItem Integer PRIMARY KEY,\n",
        "    nomeItem varchar(100),\n",
        "    porcentual Float,\n",
        "    fk_Tarefa_idTarefa Integer\n",
        ");\n",
        "\n",
        "ALTER TABLE Item_Tarefa ADD CONSTRAINT FK_Item_Tarefa_2\n",
        "    FOREIGN KEY (fk_Tarefa_idTarefa)\n",
        "    REFERENCES Tarefa (idTarefa)\n",
        "    ON DELETE RESTRICT;\n",
        "\n",
        "\n",
        "INSERT INTO public.tarefa(\n",
        "\tidTarefa, nomeTarefa, porcentual, observacao)\n",
        "\tVALUES (1, 'Aniversario Paulo', 23, 'Festa na Unipe');\n"
      ],
      "metadata": {
        "id": "zQj64JzXONyZ"
      }
    }
  ]
}
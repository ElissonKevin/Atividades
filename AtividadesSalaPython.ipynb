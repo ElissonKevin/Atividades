{
  "nbformat": 4,
  "nbformat_minor": 0,
  "metadata": {
    "colab": {
      "provenance": [],
      "authorship_tag": "ABX9TyMH+wa4PZ5xnEPWH0XYL9S7",
      "include_colab_link": true
    },
    "kernelspec": {
      "name": "python3",
      "display_name": "Python 3"
    },
    "language_info": {
      "name": "python"
    }
  },
  "cells": [
    {
      "cell_type": "markdown",
      "metadata": {
        "id": "view-in-github",
        "colab_type": "text"
      },
      "source": [
        "<a href=\"https://colab.research.google.com/github/ElissonKevin/Atividades/blob/main/AtividadesSalaPython.ipynb\" target=\"_parent\"><img src=\"https://colab.research.google.com/assets/colab-badge.svg\" alt=\"Open In Colab\"/></a>"
      ]
    },
    {
      "cell_type": "markdown",
      "source": [
        "Fazer a leitura de duas notas e calcular sua média"
      ],
      "metadata": {
        "id": "AmYMdYvULKxq"
      }
    },
    {
      "cell_type": "code",
      "execution_count": null,
      "metadata": {
        "id": "6G9h543cMyVA"
      },
      "outputs": [],
      "source": [
        "def media(nota1,nota2):\n",
        "    media = (nota1+nota2)/2\n",
        "    print(media)\n",
        "\n",
        "nota1 = float(input(\"Digite a nota 1: \"))\n",
        "\n",
        "nota2 = float(input(\"Digite a nota 2: \"))\n",
        "\n",
        "media(nota1,nota2)\n"
      ]
    },
    {
      "cell_type": "markdown",
      "source": [
        "Faça um programa que solicite o preço de uma mercadoria e o percentual de desconto. Exiba o valor do desconto e o preço a pagar."
      ],
      "metadata": {
        "id": "8wB4lG8nLhtI"
      }
    },
    {
      "cell_type": "code",
      "source": [
        "def calculoDesconto(valor,desconto):\n",
        "  valorDesconto = valor * (desconto/100)\n",
        "  valorFinal = valor - valorDesconto\n",
        "\n",
        "  print(\"O Valor do desconto e: \")\n",
        "  print(valorDesconto)\n",
        "  print(\"O Valor final da mercadoria e: \")\n",
        "  print(valorFinal)\n",
        "\n",
        "\n",
        "valor = float(input(\"Digite o valor da mercadoria: \"))\n",
        "\n",
        "desconto = int(input(\"Digite a % de desconto: \"))\n",
        "\n",
        "calculoDesconto(valor,desconto)\n",
        "\n",
        "\n"
      ],
      "metadata": {
        "id": "Km5YJ9fOR0tx"
      },
      "execution_count": null,
      "outputs": []
    },
    {
      "cell_type": "markdown",
      "source": [
        "Escreva um programa para calcular a redução do tempo de vida de um fumante. Pergunte a quantidade de cigarros fumados por dia e quantos anos ele já fumou. Considere que um fumante perde 10 minutos de vida a cada cigarro, e calcule quantos dias de vida um fumante perderá. Exiba o total em dias."
      ],
      "metadata": {
        "id": "T0sjDfnhLpjB"
      }
    },
    {
      "cell_type": "code",
      "source": [
        "def reducaoDoTempoDeVida(qtdCigarros,qtdAnos):\n",
        "  reducaoMinutos = qtdAnos * 365 * qtdCigarros * 10\n",
        "  qtdDiasPerdidos = reducaoMinutos / (24 * 60)\n",
        "  print(qtdDiasPerdidos)\n",
        "\n",
        "qtdCigarros = int(input(\"Digite a quantidade de cigarros fumados por dia: \"))\n",
        "\n",
        "qtdAnos = int(input(\"Digite a quantidade de anos que ja fumou: \"))\n",
        "\n",
        "reducaoDoTempoDeVida(qtdCigarros,qtdAnos)"
      ],
      "metadata": {
        "id": "Soh-tHQ9ZFpY"
      },
      "execution_count": null,
      "outputs": []
    },
    {
      "cell_type": "markdown",
      "source": [
        "Escreva um programa para controlar uma pequena máquina registradora. Você deve solicitar ao usuário que digite o código do produto e a quantidade comprada. Utilize a tabela de códigos a seguir para obter o preço de cada produto:\n",
        "\n",
        "Código Preço\n",
        "1      0,50\n",
        "2      1,00\n",
        "3      4,00\n",
        "5      7,00\n",
        "9      8,00\n",
        "Seu programa deve exibir o total das compras depois que o usuário digitar 0.\n",
        "Qualquer outro código deve gerar a mensagem de erro “Código inválido”."
      ],
      "metadata": {
        "id": "mL0DWnjtNYkc"
      }
    },
    {
      "cell_type": "code",
      "source": [
        "def calcular_total_a_pagar(codigo, quantidade):\n",
        "    apagar = 0\n",
        "    preco = 0\n",
        "\n",
        "    if codigo == 0:\n",
        "        return apagar\n",
        "\n",
        "    if codigo == 1:\n",
        "        preco = 0.50\n",
        "    elif codigo == 2:\n",
        "        preco = 1.00\n",
        "    elif codigo == 3:\n",
        "        preco = 4.00\n",
        "    elif codigo == 5:\n",
        "        preco = 7.00\n",
        "    elif codigo == 9:\n",
        "        preco = 8.00\n",
        "    else:\n",
        "        print(\"Codigo inválido!\")\n",
        "\n",
        "    if preco != 0:\n",
        "        apagar = preco * quantidade\n",
        "\n",
        "    return apagar\n",
        "\n",
        "total = 0\n",
        "\n",
        "while True:\n",
        "    codigo = int(input(\"Codigo da mercadoria (0 para sair): \"))\n",
        "\n",
        "    if codigo == 0:\n",
        "        break\n",
        "\n",
        "    quantidade = int(input(\"Quantidade: \"))\n",
        "\n",
        "    valor_item = calcular_total_a_pagar(codigo, quantidade)\n",
        "    total += valor_item\n",
        "\n",
        "print(f\"Total a pagar R${total:8.2f}\")\n"
      ],
      "metadata": {
        "id": "dtiyZkBCNYJ8"
      },
      "execution_count": null,
      "outputs": []
    },
    {
      "cell_type": "markdown",
      "source": [
        "Escreva um programa que pergunte o salário do funcionário e calcule o valor do aumento. Para salários superiores a R$ 1.250,00, calcule um aumento de 10%. Para os inferiores ou iguais, de 15%."
      ],
      "metadata": {
        "id": "jfAH-EqrRcIT"
      }
    },
    {
      "cell_type": "code",
      "source": [
        "def calculoAumento(salario):\n",
        "\n",
        "  salarioAumento = salario\n",
        "  if salarioAumento > 1250:\n",
        "    salarioAumento *= 1.1\n",
        "  else:\n",
        "    salarioAumento *= 1.15\n",
        "\n",
        "  print(f\"Salario com aumento e de: {salarioAumento:.2f}\")\n",
        "\n",
        "salario = float(input(\"Digite o valor do salario: \"))\n",
        "calculoAumento(salario)"
      ],
      "metadata": {
        "id": "g4z_RoS4RblY"
      },
      "execution_count": null,
      "outputs": []
    },
    {
      "cell_type": "markdown",
      "source": [
        "Escreva um programa que compare duas listas. Utilizando operações com conjuntos, imprima: • os valores comuns às duas listas • os valores que só existem na primeira • os valores que existem apenas na segunda • uma lista com os elementos não repetidos das duas listas. • a primeira lista sem os elementos repetidos na segunda"
      ],
      "metadata": {
        "id": "OYS2Ow6GTzLQ"
      }
    },
    {
      "cell_type": "code",
      "source": [
        "L1 = [1, 2, 6, 8]\n",
        "L2 = [3, 6, 8, 9]\n",
        "\n",
        "print(f\"Lista 1: {L1}\")\n",
        "print(f\"Lista 2: {L2}\")\n",
        "\n",
        "conjunto_1 = set(L1)\n",
        "conjunto_2 = set(L2)\n",
        "\n",
        "print(\"Valores comuns às duas listas:\", conjunto_1 & conjunto_2)\n",
        "print(\"Valores que só existem na primeira:\", conjunto_1 - conjunto_2)\n",
        "print(\"Valores que só existem na segunda:\", conjunto_2 - conjunto_1)\n",
        "\n",
        "print(\"Elementos não repetidos nas duas listas:\", conjunto_1 ^ conjunto_2)\n",
        "\n",
        "print(\"Primeira lista, sem os elementos repetidos na segunda:\",\n",
        "      conjunto_1 - conjunto_2)"
      ],
      "metadata": {
        "id": "PIM23e7HUm0T"
      },
      "execution_count": null,
      "outputs": []
    },
    {
      "cell_type": "markdown",
      "source": [
        "Crie um código que lê um vetor de 8 posições e, em seguida, lê dois valores X e Y quaisquer correspondentes a duas posições no vetor. O programa então imprime a soma dos valores encontrados nas respectivas posições X e Y"
      ],
      "metadata": {
        "id": "Oddx-IPHUnUj"
      }
    },
    {
      "cell_type": "code",
      "source": [
        "def somaPosicaoVetor(vetor,posicaoX,posicaoY):\n",
        "    for i in range(0,len(vetor)):\n",
        "      if posicaoX < 0 or posicaoX >= len(vetor) or posicaoY < 0 or posicaoY >= len(vetor):\n",
        "        print(\"Fora do vetor\")\n",
        "        return None\n",
        "\n",
        "      else:\n",
        "        resultado = vetor[posicaoX]+vetor[posicaoY]\n",
        "    return resultado\n",
        "\n",
        "\n",
        "vetor = [1,2,3,4,5,6,7,8]\n",
        "posicaoX = int(input(\"Digite a posicao x do vetor: \"))\n",
        "posicaoY = int(input(\"Digite a posicao y do vetor: \"))\n",
        "\n",
        "somaPosicaoVetor(vetor,posicaoX,posicaoY)"
      ],
      "metadata": {
        "id": "Vk8BCAfAdd2l"
      },
      "execution_count": null,
      "outputs": []
    },
    {
      "cell_type": "markdown",
      "source": [
        "Faça um programa que receba do usuário um vetor com 10 posições. Em seguida devera ser impresso o maior e o menor elemento do vetor."
      ],
      "metadata": {
        "id": "6cjOKR88MQiE"
      }
    },
    {
      "cell_type": "code",
      "source": [
        "def maiorValor(vetor):\n",
        "  maior = 0\n",
        "  for i in range(len(vetor)):\n",
        "    if vetor[i] > maior:\n",
        "      maior = vetor[i]\n",
        "\n",
        "  print(maior)\n",
        "\n",
        "def menorValor(vetor):\n",
        "  menor = 9999\n",
        "  for i in range(len(vetor)):\n",
        "    if menor > vetor[i]:\n",
        "      menor = vetor[i]\n",
        "\n",
        "  print(menor)\n",
        "\n",
        "def somaDosElementos(vetor):\n",
        "  soma = 0\n",
        "  for i in range(len(vetor)):\n",
        "    soma +=vetor[i]\n",
        "\n",
        "  print(soma)\n",
        "\n",
        "def Media(vetor):\n",
        "  soma = 0\n",
        "  media = 0\n",
        "  for i in range(len(vetor)):\n",
        "    soma +=vetor[i]\n",
        "\n",
        "  media = (soma/len(vetor))\n",
        "\n",
        "  print(media)\n",
        "\n",
        "def qtdElementosMaior5(vetor):\n",
        "  qtd = 0\n",
        "  for i in range(len(vetor)):\n",
        "    if vetor[i] > 5:\n",
        "      qtd+=1\n",
        "\n",
        "  print(qtd)\n",
        "\n",
        "vetor = [10,10,10,10,10,10,10,10]\n",
        "\n",
        "maiorValor(vetor)\n",
        "menorValor(vetor)\n",
        "somaDosElementos(vetor)\n",
        "Media(vetor)\n",
        "qtdElementosMaior5(vetor)\n",
        "\n"
      ],
      "metadata": {
        "id": "rVwaoR1bjaoN"
      },
      "execution_count": null,
      "outputs": []
    },
    {
      "cell_type": "markdown",
      "source": [
        "Crie um dicionário que é uma agenda e coloque nele os seguintes dados: chave (cpf),\n",
        "nome, idade, telefone. O programa deve ler um número indeterminado de dados, criar a\n",
        "agenda e imprimir todos os itens do dicionário no formato chave: nome, idade, fone.\n"
      ],
      "metadata": {
        "id": "Nftkq68E_Hp7"
      }
    },
    {
      "cell_type": "code",
      "source": [
        "def main():\n",
        "    agenda = {}\n",
        "\n",
        "    while True:\n",
        "        cpf = input(\"Digite o CPF: \")\n",
        "        nome = input(\"Digite o nome: \")\n",
        "        idade = input(\"Digite a idade: \")\n",
        "        telefone = input(\"Digite o telefone: \")\n",
        "\n",
        "        agenda[cpf] = {\n",
        "            \"nome\": nome,\n",
        "            \"idade\": idade,\n",
        "            \"telefone\": telefone,\n",
        "        }\n",
        "\n",
        "        continuar = input(\"Deseja continuar? (s/n): \")\n",
        "        if continuar != \"s\":\n",
        "            break\n",
        "\n",
        "    for cpf, contato in agenda.items():\n",
        "        print(cpf, contato[\"nome\"], contato[\"idade\"], contato[\"telefone\"])\n",
        "\n",
        "\n",
        "main()"
      ],
      "metadata": {
        "id": "DjDgh9Q3_KYk"
      },
      "execution_count": null,
      "outputs": []
    }
  ]
}
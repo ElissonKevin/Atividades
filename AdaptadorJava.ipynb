{
  "nbformat": 4,
  "nbformat_minor": 0,
  "metadata": {
    "colab": {
      "provenance": [],
      "authorship_tag": "ABX9TyOekfdQ1cgV05EXgZt+Wfjh",
      "include_colab_link": true
    },
    "kernelspec": {
      "name": "python3",
      "display_name": "Python 3"
    },
    "language_info": {
      "name": "python"
    }
  },
  "cells": [
    {
      "cell_type": "markdown",
      "metadata": {
        "id": "view-in-github",
        "colab_type": "text"
      },
      "source": [
        "<a href=\"https://colab.research.google.com/github/ElissonKevin/Atividades/blob/main/AdaptadorJava.ipynb\" target=\"_parent\"><img src=\"https://colab.research.google.com/assets/colab-badge.svg\" alt=\"Open In Colab\"/></a>"
      ]
    },
    {
      "cell_type": "code",
      "execution_count": null,
      "metadata": {
        "id": "VwIa4gs6Mw83"
      },
      "outputs": [],
      "source": [
        "//Classe adaptador (Adapter)\n",
        "class AdaptadorPS5ParaXbox2 extends SensorPS5 {\n",
        "\n",
        "    private SensorXbox2 adaptee;\n",
        "\n",
        "    public AdaptadorPS5ParaXbox2(SensorXbox2 adaptee) {\n",
        "        this.adaptee = adaptee;\n",
        "    }\n",
        "\n",
        "    //Override da solicitação\n",
        "    public void conectarPS5() {\n",
        "        adaptee.conectarXbox2();\n",
        "        System.out.println(\"But stadia wins!\");\n",
        "    }\n",
        "}\n",
        "\n",
        "//Classe Cliente(Client)\n",
        "public class ControlePS5 {\n",
        "\n",
        "    private SensorPS5 sensorAQueSeConecta;\n",
        "\n",
        "    public void Conectar(SensorPS5 sensor){\n",
        "        this.sensorAQueSeConecta = sensor;\n",
        "        sensorAQueSeConecta.conectarPS5();\n",
        "    }\n",
        "\n",
        "}\n",
        "\n",
        "//Classe alvo (Target)\n",
        "class SensorPS5 {\n",
        "\n",
        "    //Solicitação\n",
        "    public void conectarPS5() {\n",
        "        System.out.println(\"Um novo controle foi conectado ao sensor do PS5.\");\n",
        "    }\n",
        "}\n",
        "\n",
        "//Classe adaptada (Adaptee)\n",
        "class SensorXbox2 {\n",
        "\n",
        "    //Solicitação Especifica\n",
        "    public void conectarXbox2() {\n",
        "        System.out.println(\"Um novo controle foi conectado ao sensor do Xbox.\");\n",
        "    }\n",
        "}\n",
        "\n",
        "//Principal\n",
        "public class App{\n",
        "    public static void main(String[] args) {\n",
        "\n",
        "        //Tem-se um Xbox2 e mas deseja-se usar um controle ps5:\n",
        "        SensorXbox2 adaptee = new SensorXbox2();\n",
        "        ControlePS5 target = new ControlePS5();\n",
        "\n",
        "        //Cria-se um falso sensor de PS5 que, na verdade, traduz e repassa os comandos para o Xbox em questão:\n",
        "        AdaptadorPS5ParaXbox2 adapter = new AdaptadorPS5ParaXbox2(adaptee);\n",
        "\n",
        "        //Conecta-se o controle ao adapter:\n",
        "        target.Conectar(adapter);\n",
        "    }\n",
        "}\n",
        "//Saída:\n",
        "//Um novo controle foi conectado ao sensor do Xbox.\n",
        "//But stadia wins!"
      ]
    }
  ]
}